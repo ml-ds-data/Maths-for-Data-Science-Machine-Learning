{
 "cells": [
  {
   "cell_type": "markdown",
   "metadata": {},
   "source": [
    "# Gaussian Distribution\n",
    "\n",
    "The most commonly seen and well-known distribution of continuous values is \n",
    "the “normal” distribution,because it the distribution that a lot of data \n",
    "falls into. It is also known as the Gaussian distribution, \n",
    "named after Friedrich Gauss.\n",
    "\n",
    "Some examples of observations that have a Gaussian distribution include:\n",
    "\n",
    "People’s heights.\n",
    "IQ scores.\n",
    "Body temperature.\n",
    "To generate and plot an idealized Gaussian distribution."
   ]
  },
  {
   "cell_type": "code",
   "execution_count": 3,
   "metadata": {},
   "outputs": [
    {
     "data": {
      "image/png": "[encoded data removed]",
      "text/plain": [
       "<matplotlib.figure.Figure at 0x1bbcf6b8b00>"
      ]
     },
     "metadata": {},
     "output_type": "display_data"
    }
   ],
   "source": [
    "# generate and plot an idealized gaussian\n",
    "from numpy import arange\n",
    "from matplotlib import pyplot\n",
    "from scipy.stats import norm\n",
    "# x-axis for the plot\n",
    "x_axis = arange(-5, 5, 0.001)\n",
    "# y-axis as the gaussian\n",
    "y_axis = norm.pdf(x_axis, 0, 1)\n",
    "# plot data\n",
    "pyplot.plot(x_axis, y_axis)\n",
    "pyplot.show()"
   ]
  },
  {
   "cell_type": "markdown",
   "metadata": {},
   "source": [
    "The x-axis are the observations and the y-axis is the frequency of each observation. \n",
    "In this case, observations around 0.0 are the most common and observations\n",
    "around -5.0 and 5.0 are rare or unlikely."
   ]
  },
  {
   "cell_type": "markdown",
   "metadata": {},
   "source": [
    "It is helpful when we assume a Gaussian distribution for calculating statistics.\n",
    "This is because the Gaussian distribution is very well understood,\n",
    "and large parts of the field of statistics are dedicated to methods for \n",
    "this distribution.\n",
    "Many of the data which is used by machine learning techniques often fits\n",
    "a Gaussian distribution,such as the input data used to fit a model,\n",
    "and for the repeated evaluation of a model for performance\n",
    "on different samples of training data.\n",
    "\n",
    "Having said that not all data is Gaussian, and this fact is obtained by \n",
    "histogram plots of the data or using statistical tests to check.\n",
    "Some examples of observations that do not fit a Gaussian distribution include:\n",
    "Population of cities.\n",
    "Sales of phones"
   ]
  },
  {
   "cell_type": "markdown",
   "metadata": {},
   "source": [
    "# Population Vs Sample \n",
    "When data is generated by an unknown process,The data one collects is called a data sample, whereas all possible data that\n",
    "could be collected is called the population.\n",
    "\n",
    "Data Population: All possible observations from a group.\n",
    "Data Sample: A subset of observations from a group.\n",
    "\n",
    "This is an important distinction because different statistical methods are \n",
    "used on samples vs populations, and in applied machine learning, people often\n",
    "work with samples of data. \n",
    "If the word is “population” when talking about data in machine learning, it\n",
    "means sample when it comes to statistical methods.\n",
    "\n",
    "Two examples of data samples in machine learning include:\n",
    "The train and test datasets.\n",
    "The performance scores for a model.\n",
    "\n",
    "When using statistical methods, decisions are made about the population \n",
    "using only observations in the sample.\n",
    "\n",
    "Two clear examples of this include:\n",
    "The training sample must be representative of the population of observations to fit a useful model.\n",
    "The test sample must be representative of the population of observations to develop an \n",
    "unbiased evaluation of the model skill.\n",
    "When working with samples and making claims about a population,\n",
    "there is always some uncertainty, and it is important to understand and \n",
    "report this uncertainty."
   ]
  },
  {
   "cell_type": "markdown",
   "metadata": {},
   "source": [
    "# Example\n",
    "Use the randn() NumPy function to generate a sample of random numbers\n",
    "drawn from a Gaussian distribution.\n",
    "The randn() function will generate a specified number of random numbers (e.g. 10,000) drawn \n",
    "from a Gaussian distribution with a mean of zero and a standard deviation of 1.\n",
    "Scale these numbers to a Gaussian of choice."
   ]
  },
  {
   "cell_type": "code",
   "execution_count": 4,
   "metadata": {},
   "outputs": [
    {
     "data": {
      "image/png": "[encoded data removed]",
      "text/plain": [
       "<matplotlib.figure.Figure at 0x1bbcf737278>"
      ]
     },
     "metadata": {},
     "output_type": "display_data"
    }
   ],
   "source": [
    "\n",
    "# generate a sample of random gaussians\n",
    "from numpy.random import seed\n",
    "from numpy.random import randn\n",
    "from matplotlib import pyplot\n",
    "# seed the random number generator\n",
    "seed(1)\n",
    "# generate univariate observations\n",
    "data = 5 * randn(10000) + 50     # added a mean of 50 and sd of 5 to the gaussian\n",
    "# histogram of generated data\n",
    "pyplot.hist(data,bins=100)\n",
    "pyplot.show()"
   ]
  },
  {
   "cell_type": "markdown",
   "metadata": {},
   "source": [
    "The data sample will always contain errors compared to the pure underlying distribution."
   ]
  },
  {
   "cell_type": "markdown",
   "metadata": {},
   "source": [
    "# Central Tendency-->Mean,Median,Mode\n",
    "The central tendency of a distribution refers to the middle or typical value in the distribution. \n",
    "The most common or most likely value.\n",
    "In the Gaussian distribution, the central tendency is called the arithmetic mean,\n",
    "and is one of the two main parameters that defines any Gaussian distribution.\n",
    "# Mean\n",
    "The mean of a sample is calculated as the sum of the observations\n",
    "divided by the total number of observations in the sample.\n",
    "Mode is the most no of occurences of a value."
   ]
  },
  {
   "cell_type": "code",
   "execution_count": 5,
   "metadata": {},
   "outputs": [
    {
     "name": "stdout",
     "output_type": "stream",
     "text": [
      "Mean: 50.049\n"
     ]
    }
   ],
   "source": [
    "#print(mean = sum(data) / length(data))\n",
    "from numpy import mean\n",
    "result =mean(data)\n",
    "print('Mean: %.3f' % result)"
   ]
  },
  {
   "cell_type": "markdown",
   "metadata": {},
   "source": [
    "Because the underlying distribution has the true mean of 50,\n",
    "the estimate from a sample of 10,000 observations is reasonably accurate."
   ]
  },
  {
   "cell_type": "markdown",
   "metadata": {},
   "source": [
    "# Median\n",
    "In the case of outliers or a non-Gaussian distribution, an alternate central tendency(second parameter) to calculate is the median.\n",
    "The median is calculated by first sorting all data and then locating the middle value in the sample.\n",
    "This is straightforward if there is an odd number of observations. If there is an even number of observations,\n",
    "the median is calculated as the average of the middle two observations."
   ]
  },
  {
   "cell_type": "code",
   "execution_count": 7,
   "metadata": {},
   "outputs": [
    {
     "name": "stdout",
     "output_type": "stream",
     "text": [
      "Median: 50.042\n"
     ]
    }
   ],
   "source": [
    "import numpy as np\n",
    "result_median = np.median(data)\n",
    "print('Median: %.3f' % result_median)"
   ]
  },
  {
   "cell_type": "markdown",
   "metadata": {},
   "source": [
    "The result is similar to the mean because\n",
    "the sample has a Gaussian distribution. If the data had a different (non-Gaussian) distribution,\n",
    "the median may be very different from the mean and perhaps a better reflection of the \n",
    "central tendency of the underlying population."
   ]
  },
  {
   "cell_type": "markdown",
   "metadata": {},
   "source": [
    "# Measures of Variability--> Range, Mean Absolute Deviation,Variance,Standard Deviation, Coefficient of variation\n",
    "Average measure does not work incase of diversity of data.\n",
    "For example working hours of person A in a week are 8.5,10,8,9,9.5 for 5 days.So average working hours is 9.\n",
    "Person B works for 12,5,14,6,8 for 5 days and the mean is 9.\n",
    "\n",
    "But the distrbution of working hours for both the persons are different.\n",
    "Range, maximum value-minimum value.For person A is 10-8=2, for person B is 12-5=7\n",
    "Positive and negative deviations cancel each other. So take absolute values.\n",
    "Mean Absolute Deviation is 1/n(sum(ab(x-mean(x)))) for each score. 0.6 for person A and 3.2 for peson B\n",
    "The variance of a distribution refers to how much on average that observations vary or differ from the mean value.\n",
    "Variance is 1/n(sum(x-mean)**2), 0.5 for A and 12 for B\n",
    "Standard Deviation is square root of Variance, 0.7 and 3.5\n",
    "C value = 1/mean(sqrt(variance/number of obsevations)), 0.06 and 0.66\n",
    "\n",
    "\n",
    "\n",
    "."
   ]
  },
  {
   "cell_type": "code",
   "execution_count": 10,
   "metadata": {},
   "outputs": [
    {
     "data": {
      "image/png": "[encoded data removed]",
      "text/plain": [
       "<matplotlib.figure.Figure at 0x1bbcf867588>"
      ]
     },
     "metadata": {},
     "output_type": "display_data"
    }
   ],
   "source": [
    "# plot low variance\n",
    "pyplot.plot(x_axis, norm.pdf(x_axis, 0, 0.5))\n",
    "# plot high variance\n",
    "pyplot.plot(x_axis, norm.pdf(x_axis, 0, 1.5))\n",
    "pyplot.show()"
   ]
  },
  {
   "cell_type": "code",
   "execution_count": 11,
   "metadata": {},
   "outputs": [
    {
     "name": "stdout",
     "output_type": "stream",
     "text": [
      "Variance: 24.939\n"
     ]
    }
   ],
   "source": [
    "#variance = 1 / (length(data) - 1) * sum(data[i] - mean(data))^2\n",
    "result_var =np.var(data)\n",
    "print('Variance: %.3f' % result_var)"
   ]
  },
  {
   "cell_type": "markdown",
   "metadata": {},
   "source": [
    "Standard Deviation\n",
    "The spread of a Gaussian distribution is summarized, by the standard deviation.\n",
    "The standard deviation and the mean, are the two key parameters required to specify any \n",
    "Gaussian distribution.The value of 4.9 is very close to the value of 5 for the standard deviation\n",
    "specified when the samples were created for the problem.\n",
    "Standard deviation is the square root of the variance."
   ]
  },
  {
   "cell_type": "code",
   "execution_count": 12,
   "metadata": {},
   "outputs": [
    {
     "name": "stdout",
     "output_type": "stream",
     "text": [
      "Standard Deviation 4.994\n"
     ]
    }
   ],
   "source": [
    "#standard deviation = sqrt(1 / (length(data) - 1) * sum(data[i] - mean(data))^2)\n",
    "result_std=np.std(data)\n",
    "print('Standard Deviation %.3f'% result_std)"
   ]
  },
  {
   "cell_type": "markdown",
   "metadata": {},
   "source": [
    "The value matches the square root of the variance and \n",
    "is very close to 5.0, the value specified in the definition of the problem."
   ]
  },
  {
   "cell_type": "code",
   "execution_count": null,
   "metadata": {},
   "outputs": [],
   "source": []
  }
 ],
 "metadata": {
  "kernelspec": {
   "display_name": "Python 3",
   "language": "python",
   "name": "python3"
  },
  "language_info": {
   "codemirror_mode": {
    "name": "ipython",
    "version": 3
   },
   "file_extension": ".py",
   "mimetype": "text/x-python",
   "name": "python",
   "nbconvert_exporter": "python",
   "pygments_lexer": "ipython3",
   "version": "3.6.4"
  }
 },
 "nbformat": 4,
 "nbformat_minor": 2
}
